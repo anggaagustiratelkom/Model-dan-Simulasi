{
  "nbformat": 4,
  "nbformat_minor": 0,
  "metadata": {
    "colab": {
      "name": "Buffon Neddle.ipynb",
      "provenance": [],
      "collapsed_sections": [],
      "authorship_tag": "ABX9TyNd33GX+3UCHJrBHQ7HR0J2",
      "include_colab_link": true
    },
    "kernelspec": {
      "name": "python3",
      "display_name": "Python 3"
    }
  },
  "cells": [
    {
      "cell_type": "markdown",
      "metadata": {
        "id": "view-in-github",
        "colab_type": "text"
      },
      "source": [
        "<a href=\"https://colab.research.google.com/github/anggaagustiratelkom/Model-dan-Simulasi/blob/master/Buffon_Neddle.ipynb\" target=\"_parent\"><img src=\"https://colab.research.google.com/assets/colab-badge.svg\" alt=\"Open In Colab\"/></a>"
      ]
    },
    {
      "cell_type": "code",
      "metadata": {
        "id": "uTRpnbwLb4tg",
        "colab_type": "code",
        "colab": {}
      },
      "source": [
        "import random\n",
        "import numpy as np\n",
        "import matplotlib.pyplot as plt\n",
        "from numpy import pi, cos"
      ],
      "execution_count": 0,
      "outputs": []
    },
    {
      "cell_type": "code",
      "metadata": {
        "id": "W8GzpvmOgBVc",
        "colab_type": "code",
        "colab": {}
      },
      "source": [
        "def buffon(L,D,N):\n",
        "  hit = 0;\n",
        "  for loop in range(N):\n",
        "    theta = pi*random.random()/2\n",
        "    if ((D*random.random()) <= (L*cos(theta))):\n",
        "      hit +=1\n",
        "  return hit/N"
      ],
      "execution_count": 0,
      "outputs": []
    },
    {
      "cell_type": "code",
      "metadata": {
        "id": "TxytdkEItnNG",
        "colab_type": "code",
        "colab": {}
      },
      "source": [
        "def cont_pi(N):\n",
        "  L = 3 #Panjang jarum\n",
        "  D = 5 #Lebar garis paralel\n",
        "  pi_est = 2*L / (buffon(L,D,N)*D)\n",
        "  return pi_est"
      ],
      "execution_count": 0,
      "outputs": []
    },
    {
      "cell_type": "code",
      "metadata": {
        "id": "Bm1uww5sFGMX",
        "colab_type": "code",
        "outputId": "d999ee6f-9094-4a7a-93c0-023b6f74ec7b",
        "colab": {
          "base_uri": "https://localhost:8080/",
          "height": 521
        }
      },
      "source": [
        "x = np.arange(100,3100,100)\n",
        "y = np.zeros(len(x))\n",
        "n = len(x)\n",
        "for i in range(n):\n",
        "  y[i] = cont_pi(x[i])\n",
        "  print(i+1,\", N = \",x[i],\", pi = \",round(y[i],3))"
      ],
      "execution_count": 0,
      "outputs": [
        {
          "output_type": "stream",
          "text": [
            "1 , N =  100 , pi =  3.077\n",
            "2 , N =  200 , pi =  3.288\n",
            "3 , N =  300 , pi =  2.812\n",
            "4 , N =  400 , pi =  3.288\n",
            "5 , N =  500 , pi =  3.0\n",
            "6 , N =  600 , pi =  3.229\n",
            "7 , N =  700 , pi =  3.17\n",
            "8 , N =  800 , pi =  3.097\n",
            "9 , N =  900 , pi =  3.095\n",
            "10 , N =  1000 , pi =  3.235\n",
            "11 , N =  1100 , pi =  3.143\n",
            "12 , N =  1200 , pi =  3.179\n",
            "13 , N =  1300 , pi =  3.377\n",
            "14 , N =  1400 , pi =  3.066\n",
            "15 , N =  1500 , pi =  3.125\n",
            "16 , N =  1600 , pi =  3.142\n",
            "17 , N =  1700 , pi =  3.115\n",
            "18 , N =  1800 , pi =  3.181\n",
            "19 , N =  1900 , pi =  3.198\n",
            "20 , N =  2000 , pi =  3.133\n",
            "21 , N =  2100 , pi =  3.088\n",
            "22 , N =  2200 , pi =  3.325\n",
            "23 , N =  2300 , pi =  3.084\n",
            "24 , N =  2400 , pi =  3.084\n",
            "25 , N =  2500 , pi =  3.096\n",
            "26 , N =  2600 , pi =  3.02\n",
            "27 , N =  2700 , pi =  3.393\n",
            "28 , N =  2800 , pi =  3.111\n",
            "29 , N =  2900 , pi =  3.178\n",
            "30 , N =  3000 , pi =  3.152\n"
          ],
          "name": "stdout"
        }
      ]
    },
    {
      "cell_type": "code",
      "metadata": {
        "id": "KvIwNmqquyFA",
        "colab_type": "code",
        "outputId": "f3347e98-90c3-4b3a-8d93-191ebf5c92dd",
        "colab": {
          "base_uri": "https://localhost:8080/",
          "height": 296
        }
      },
      "source": [
        "plt.plot(x,y,'.')\n",
        "plt.axhline(y=pi, color='r', linestyle='-')\n",
        "plt.xlabel('N (ukuran sample)')\n",
        "plt.ylabel('$\\pi$')\n",
        "plt.show()\n",
        "print(sum(y)/n)"
      ],
      "execution_count": 0,
      "outputs": [
        {
          "output_type": "display_data",
          "data": {
            "image/png": "[encoded data removed]",
            "text/plain": [
              "<Figure size 432x288 with 1 Axes>"
            ]
          },
          "metadata": {
            "tags": []
          }
        },
        {
          "output_type": "stream",
          "text": [
            "3.149268737764153\n"
          ],
          "name": "stdout"
        }
      ]
    }
  ]
}