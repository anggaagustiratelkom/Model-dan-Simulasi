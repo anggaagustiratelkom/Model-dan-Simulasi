{
  "nbformat": 4,
  "nbformat_minor": 0,
  "metadata": {
    "colab": {
      "name": "Monte Carlo.ipynb",
      "provenance": [],
      "collapsed_sections": [],
      "authorship_tag": "ABX9TyMkH4ZJWgGlt20NDGp5qibT",
      "include_colab_link": true
    },
    "kernelspec": {
      "name": "python3",
      "display_name": "Python 3"
    }
  },
  "cells": [
    {
      "cell_type": "markdown",
      "metadata": {
        "id": "view-in-github",
        "colab_type": "text"
      },
      "source": [
        "<a href=\"https://colab.research.google.com/github/anggaagustiratelkom/Model-dan-Simulasi/blob/master/Monte_Carlo.ipynb\" target=\"_parent\"><img src=\"https://colab.research.google.com/assets/colab-badge.svg\" alt=\"Open In Colab\"/></a>"
      ]
    },
    {
      "cell_type": "code",
      "metadata": {
        "id": "3kE9JHr_nkwb",
        "colab_type": "code",
        "colab": {}
      },
      "source": [
        "import numpy as np\n",
        "import matplotlib.pyplot as plt\n",
        "import pandas as pd\n",
        "import random as rand\n",
        "from scipy.stats import norminvgauss as norminv\n",
        "\n",
        "a = 0 #Batas bawah\n",
        "b = 1 #Batas atas\n",
        "n = 100 #Banyak data"
      ],
      "execution_count": 0,
      "outputs": []
    },
    {
      "cell_type": "code",
      "metadata": {
        "id": "C6dicm0KtJNt",
        "colab_type": "code",
        "colab": {}
      },
      "source": [
        "def function1(x):\n",
        "  return 2*(x) + 2"
      ],
      "execution_count": 0,
      "outputs": []
    },
    {
      "cell_type": "code",
      "metadata": {
        "id": "XeV72llxtRdK",
        "colab_type": "code",
        "colab": {}
      },
      "source": [
        "def algoritma1(a,b,n,f=function1):\n",
        "    I = 0\n",
        "    w = (b-a)/n\n",
        "    for i in range(n):  \n",
        "      x = rand.uniform(a,b)\n",
        "      I += (w * f(x))\n",
        "      print(\"i = \",(i+1),\"Xi = \",x,\"f(Xi) = \",f(x))\n",
        "    return round(I,3)"
      ],
      "execution_count": 0,
      "outputs": []
    },
    {
      "cell_type": "code",
      "metadata": {
        "id": "lppPYG8NKMCP",
        "colab_type": "code",
        "colab": {}
      },
      "source": [
        "print(\"Algoritma 1 : \",algoritma1(a,b,n,f=function1))"
      ],
      "execution_count": 0,
      "outputs": []
    },
    {
      "cell_type": "code",
      "metadata": {
        "id": "F7A_R0lTaG37",
        "colab_type": "code",
        "colab": {}
      },
      "source": [
        "def function2(x):\n",
        "  return x + 1"
      ],
      "execution_count": 0,
      "outputs": []
    },
    {
      "cell_type": "code",
      "metadata": {
        "id": "eanTPzp6Pe9e",
        "colab_type": "code",
        "colab": {}
      },
      "source": [
        "def algoritma2(a,b,n,f=function2):\n",
        "  I = 0\n",
        "  tempx = []\n",
        "  fungsi_mean = 0\n",
        "  jumVariansi = 0\n",
        "  variansi_mean = 0\n",
        "  bb = 0\n",
        "  ba = 0\n",
        "  #Hitung hasil fungsi\n",
        "  for i in range(n):\n",
        "    x = rand.uniform(a,b)\n",
        "    tempx.append(x)\n",
        "    I += function2(x)\n",
        "    print(\"i = \",i+1,\"Xi = \",x,\"f(Xi) = \",I)\n",
        "\n",
        "  #Rata rata fungsi\n",
        "  fungsi_mean = I/n\n",
        "  print(\"Rata-rata fungsi(x) = \",fungsi_mean)\n",
        "\n",
        "  #Hitung hasil variansi\n",
        "  for i in range(n):\n",
        "    jumVariansi += (function2(tempx[i]) - fungsi_mean)**2\n",
        "    print(\"Var = \",jumVariansi)\n",
        "  variansi = jumVariansi/(n-1)\n",
        "  print(\"Var(f) = \",variansi)\n",
        "\n",
        "  #rata rata variansi\n",
        "  variansi_mean = variansi/n\n",
        "  print(\"Rata rata Var(f) = \",variansi_mean)\n",
        "\n",
        "  #K / Nilai kepercayaan\n",
        "  k = norminv.pdf(0,1,0,0.95)\n",
        "  print(\"K = \",k)\n",
        "\n",
        "  #Batas bawah Integral\n",
        "  bb = round((b-a)*(fungsi_mean - (k * variansi_mean)),3)\n",
        "  #Batas atas Integral\n",
        "  ba = round((b-a)*(fungsi_mean + (k * variansi_mean)),3)\n",
        "  return (\"Batas bawah\",bb ,\"< I = \",fungsi_mean ,\"< Batas atas = \",ba)\n",
        "  \n",
        "  \n"
      ],
      "execution_count": 0,
      "outputs": []
    },
    {
      "cell_type": "code",
      "metadata": {
        "id": "lf8izWR9jC67",
        "colab_type": "code",
        "colab": {}
      },
      "source": [
        "print(\"Algoritma 2 : \",algoritma2(a,b,n,f=function2))"
      ],
      "execution_count": 0,
      "outputs": []
    }
  ]
}